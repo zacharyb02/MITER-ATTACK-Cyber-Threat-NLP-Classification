{
 "cells": [
  {
   "cell_type": "code",
   "execution_count": null,
   "id": "eab82ed4-842f-4dbd-a5a7-9d879450a52b",
   "metadata": {},
   "outputs": [
    {
     "name": "stdout",
     "output_type": "stream",
     "text": [
      " * Serving Flask app \"__main__\" (lazy loading)\n",
      " * Environment: production\n",
      "\u001b[31m   WARNING: This is a development server. Do not use it in a production deployment.\u001b[0m\n",
      "\u001b[2m   Use a production WSGI server instead.\u001b[0m\n",
      " * Debug mode: off\n"
     ]
    },
    {
     "name": "stderr",
     "output_type": "stream",
     "text": [
      " * Running on http://127.0.0.1:80/ (Press CTRL+C to quit)\n"
     ]
    }
   ],
   "source": [
    "from flask import Flask, render_template, request\n",
    "\n",
    "import pandas as pd\n",
    "import joblib\n",
    "\n",
    "app= Flask(__name__)\n",
    "\n",
    "model = joblib.load(r'G:\\NLP Projects\\MitRA aTTACK\\Notre projet\\Models\\ML Models\\SVC.pkl')\n",
    "\n",
    "vectorizer = joblib.load(r'G:\\NLP Projects\\MitRA aTTACK\\Notre projet\\Models\\ML Models\\vectorizer.joblib')\n",
    "    \n",
    "FILE_PATH= 'index.html'\n",
    "\n",
    "@app.route('/', methods=['GET'])\n",
    "def hello_world():\n",
    "    return render_template(FILE_PATH)\n",
    "\n",
    "@app.route('/predict', methods=['POST'])\n",
    "def predict():\n",
    "    input_text = request.form['inputText']\n",
    "    print(input_text)\n",
    "    text = [inputText]\n",
    "    X = vectorizer.transform(text)\n",
    "    predictions = model.predict(X)\n",
    "    \n",
    "    return render_template(FILE_PATH, prediction=\"hello world\")    \n",
    "\n",
    "if __name__ == \"__main__\":\n",
    "    app.run(port=80, debug=False)"
   ]
  },
  {
   "cell_type": "code",
   "execution_count": null,
   "id": "126f5256-7276-45a7-8100-cb6320b4f2a2",
   "metadata": {},
   "outputs": [],
   "source": []
  }
 ],
 "metadata": {
  "kernelspec": {
   "display_name": "Python 3 (ipykernel)",
   "language": "python",
   "name": "python3"
  },
  "language_info": {
   "codemirror_mode": {
    "name": "ipython",
    "version": 3
   },
   "file_extension": ".py",
   "mimetype": "text/x-python",
   "name": "python",
   "nbconvert_exporter": "python",
   "pygments_lexer": "ipython3",
   "version": "3.9.13"
  }
 },
 "nbformat": 4,
 "nbformat_minor": 5
}
