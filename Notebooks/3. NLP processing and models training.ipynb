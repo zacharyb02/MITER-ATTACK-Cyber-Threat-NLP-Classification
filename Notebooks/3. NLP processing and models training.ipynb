{
  "nbformat": 4,
  "nbformat_minor": 0,
  "metadata": {
    "colab": {
      "provenance": []
    },
    "kernelspec": {
      "name": "python3",
      "display_name": "Python 3"
    },
    "language_info": {
      "name": "python"
    }
  },
  "cells": [
    {
      "cell_type": "code",
      "source": [
        "from sklearn.feature_extraction.text import TfidfVectorizer\n",
        "from sklearn.model_selection import train_test_split\n",
        "from nltk.tokenize import word_tokenize\n",
        "from sklearn import svm\n",
        "from sklearn.naive_bayes import MultinomialNB, ComplementNB\n",
        "from sklearn.linear_model import LogisticRegression\n",
        "from sklearn.ensemble import RandomForestClassifier\n",
        "from sklearn.neighbors import KNeighborsClassifier\n",
        "from nltk.stem import WordNetLemmatizer, porter\n",
        "from sklearn.preprocessing import LabelBinarizer\n",
        "import numpy as np\n",
        "import pandas as pd\n",
        "from sklearn.neural_network import MLPClassifier\n",
        "from sklearn.utils.class_weight import compute_sample_weight\n",
        "from sklearn.utils.multiclass import unique_labels\n",
        "from sklearn.metrics import precision_recall_fscore_support\n",
        "from sklearn.metrics import top_k_accuracy_score\n",
        "import pickle\n",
        "import os"
      ],
      "metadata": {
        "id": "JG3fmCV6u-2q"
      },
      "execution_count": 1,
      "outputs": []
    },
    {
      "cell_type": "code",
      "source": [
        "df = pd.read_csv('Final techniques.csv')\n",
        "print(df.head())"
      ],
      "metadata": {
        "colab": {
          "base_uri": "https://localhost:8080/"
        },
        "id": "sN6fwpA6euhV",
        "outputId": "6962f2e4-b7f5-44c2-b96b-70ea7c5045da"
      },
      "execution_count": 3,
      "outputs": [
        {
          "output_type": "stream",
          "name": "stdout",
          "text": [
            "      id                                               desc\n",
            "0  T1595  Adversaries may execute active reconnaissance ...\n",
            "1  T1592  Adversaries may gather information about the v...\n",
            "2  T1589  Adversaries may gather information about the v...\n",
            "3  T1590  Adversaries may gather information about the v...\n",
            "4  T1591  Adversaries may gather information about the v...\n"
          ]
        }
      ]
    },
    {
      "cell_type": "code",
      "execution_count": 4,
      "metadata": {
        "colab": {
          "base_uri": "https://localhost:8080/"
        },
        "id": "dzIVmWlXb42x",
        "outputId": "297c0a7d-6885-4948-a10b-d51b02e92cdc"
      },
      "outputs": [
        {
          "output_type": "stream",
          "name": "stdout",
          "text": [
            "         id                                          sentences\n",
            "0     T1595  Adversaries may execute active reconnaissance ...\n",
            "1     T1595  Active scans are those where the adversary pro...\n",
            "2     T1595  Adversaries may perform different forms of act...\n",
            "3     T1595  These scans can also be performed in various w...\n",
            "4     T1592  Adversaries may gather information about the v...\n",
            "...     ...                                                ...\n",
            "5738  T1498  Reflection attacks often take advantage of pro...\n",
            "5739  T1498  Adversaries may be able to generate an increas...\n",
            "5740  T1498  The extent of this increase will depending upo...\n",
            "5741  T1498  Two prominent protocols that have enabled Refl...\n",
            "5742  T1498  In particular, the memcache protocol showed it...\n",
            "\n",
            "[5743 rows x 2 columns]\n"
          ]
        }
      ],
      "source": [
        "import spacy\n",
        "nlp = spacy.load(\"en_core_web_sm\")\n",
        "def split_into_sentences(text):\n",
        "    doc = nlp(text)\n",
        "    return [sent.text for sent in doc.sents]\n",
        "\n",
        "df['sentences'] = df['desc'].apply(split_into_sentences)\n",
        "df = df.explode('sentences').reset_index(drop=True)\n",
        "df = df[['id', 'sentences']]\n",
        "print(df)"
      ]
    },
    {
      "cell_type": "code",
      "source": [
        "df.to_csv('Final.csv', index=False)"
      ],
      "metadata": {
        "id": "WWEw6ZR_9Al1"
      },
      "execution_count": 42,
      "outputs": []
    },
    {
      "cell_type": "code",
      "source": [
        "import pandas as pd\n",
        "new_row = {'id': 'T1008', 'sentences': 'Adversaries may use fallback or alternate communication channels if the primary channel is compromised or inaccessible in order to maintain reliable command and control and to avoid data transfer thresholds.'}\n",
        "df_T = pd.DataFrame([new_row])\n",
        "\n",
        "df = pd.concat([df, df_T])\n",
        "df.reset_index(drop=True, inplace=True)"
      ],
      "metadata": {
        "id": "49NH9-M5uwTA"
      },
      "execution_count": 5,
      "outputs": []
    },
    {
      "cell_type": "code",
      "source": [
        "df"
      ],
      "metadata": {
        "colab": {
          "base_uri": "https://localhost:8080/",
          "height": 423
        },
        "id": "MIYg5k9NzP9C",
        "outputId": "b1fbcba3-3255-4cb3-e226-8b6f3600facd"
      },
      "execution_count": 6,
      "outputs": [
        {
          "output_type": "execute_result",
          "data": {
            "text/plain": [
              "         id                                          sentences\n",
              "0     T1595  Adversaries may execute active reconnaissance ...\n",
              "1     T1595  Active scans are those where the adversary pro...\n",
              "2     T1595  Adversaries may perform different forms of act...\n",
              "3     T1595  These scans can also be performed in various w...\n",
              "4     T1592  Adversaries may gather information about the v...\n",
              "...     ...                                                ...\n",
              "5739  T1498  Adversaries may be able to generate an increas...\n",
              "5740  T1498  The extent of this increase will depending upo...\n",
              "5741  T1498  Two prominent protocols that have enabled Refl...\n",
              "5742  T1498  In particular, the memcache protocol showed it...\n",
              "5743  T1008  Adversaries may use fallback or alternate comm...\n",
              "\n",
              "[5744 rows x 2 columns]"
            ],
            "text/html": [
              "\n",
              "  <div id=\"df-e097a893-4948-4693-bd05-dfa19995aeff\" class=\"colab-df-container\">\n",
              "    <div>\n",
              "<style scoped>\n",
              "    .dataframe tbody tr th:only-of-type {\n",
              "        vertical-align: middle;\n",
              "    }\n",
              "\n",
              "    .dataframe tbody tr th {\n",
              "        vertical-align: top;\n",
              "    }\n",
              "\n",
              "    .dataframe thead th {\n",
              "        text-align: right;\n",
              "    }\n",
              "</style>\n",
              "<table border=\"1\" class=\"dataframe\">\n",
              "  <thead>\n",
              "    <tr style=\"text-align: right;\">\n",
              "      <th></th>\n",
              "      <th>id</th>\n",
              "      <th>sentences</th>\n",
              "    </tr>\n",
              "  </thead>\n",
              "  <tbody>\n",
              "    <tr>\n",
              "      <th>0</th>\n",
              "      <td>T1595</td>\n",
              "      <td>Adversaries may execute active reconnaissance ...</td>\n",
              "    </tr>\n",
              "    <tr>\n",
              "      <th>1</th>\n",
              "      <td>T1595</td>\n",
              "      <td>Active scans are those where the adversary pro...</td>\n",
              "    </tr>\n",
              "    <tr>\n",
              "      <th>2</th>\n",
              "      <td>T1595</td>\n",
              "      <td>Adversaries may perform different forms of act...</td>\n",
              "    </tr>\n",
              "    <tr>\n",
              "      <th>3</th>\n",
              "      <td>T1595</td>\n",
              "      <td>These scans can also be performed in various w...</td>\n",
              "    </tr>\n",
              "    <tr>\n",
              "      <th>4</th>\n",
              "      <td>T1592</td>\n",
              "      <td>Adversaries may gather information about the v...</td>\n",
              "    </tr>\n",
              "    <tr>\n",
              "      <th>...</th>\n",
              "      <td>...</td>\n",
              "      <td>...</td>\n",
              "    </tr>\n",
              "    <tr>\n",
              "      <th>5739</th>\n",
              "      <td>T1498</td>\n",
              "      <td>Adversaries may be able to generate an increas...</td>\n",
              "    </tr>\n",
              "    <tr>\n",
              "      <th>5740</th>\n",
              "      <td>T1498</td>\n",
              "      <td>The extent of this increase will depending upo...</td>\n",
              "    </tr>\n",
              "    <tr>\n",
              "      <th>5741</th>\n",
              "      <td>T1498</td>\n",
              "      <td>Two prominent protocols that have enabled Refl...</td>\n",
              "    </tr>\n",
              "    <tr>\n",
              "      <th>5742</th>\n",
              "      <td>T1498</td>\n",
              "      <td>In particular, the memcache protocol showed it...</td>\n",
              "    </tr>\n",
              "    <tr>\n",
              "      <th>5743</th>\n",
              "      <td>T1008</td>\n",
              "      <td>Adversaries may use fallback or alternate comm...</td>\n",
              "    </tr>\n",
              "  </tbody>\n",
              "</table>\n",
              "<p>5744 rows × 2 columns</p>\n",
              "</div>\n",
              "    <div class=\"colab-df-buttons\">\n",
              "\n",
              "  <div class=\"colab-df-container\">\n",
              "    <button class=\"colab-df-convert\" onclick=\"convertToInteractive('df-e097a893-4948-4693-bd05-dfa19995aeff')\"\n",
              "            title=\"Convert this dataframe to an interactive table.\"\n",
              "            style=\"display:none;\">\n",
              "\n",
              "  <svg xmlns=\"http://www.w3.org/2000/svg\" height=\"24px\" viewBox=\"0 -960 960 960\">\n",
              "    <path d=\"M120-120v-720h720v720H120Zm60-500h600v-160H180v160Zm220 220h160v-160H400v160Zm0 220h160v-160H400v160ZM180-400h160v-160H180v160Zm440 0h160v-160H620v160ZM180-180h160v-160H180v160Zm440 0h160v-160H620v160Z\"/>\n",
              "  </svg>\n",
              "    </button>\n",
              "\n",
              "  <style>\n",
              "    .colab-df-container {\n",
              "      display:flex;\n",
              "      gap: 12px;\n",
              "    }\n",
              "\n",
              "    .colab-df-convert {\n",
              "      background-color: #E8F0FE;\n",
              "      border: none;\n",
              "      border-radius: 50%;\n",
              "      cursor: pointer;\n",
              "      display: none;\n",
              "      fill: #1967D2;\n",
              "      height: 32px;\n",
              "      padding: 0 0 0 0;\n",
              "      width: 32px;\n",
              "    }\n",
              "\n",
              "    .colab-df-convert:hover {\n",
              "      background-color: #E2EBFA;\n",
              "      box-shadow: 0px 1px 2px rgba(60, 64, 67, 0.3), 0px 1px 3px 1px rgba(60, 64, 67, 0.15);\n",
              "      fill: #174EA6;\n",
              "    }\n",
              "\n",
              "    .colab-df-buttons div {\n",
              "      margin-bottom: 4px;\n",
              "    }\n",
              "\n",
              "    [theme=dark] .colab-df-convert {\n",
              "      background-color: #3B4455;\n",
              "      fill: #D2E3FC;\n",
              "    }\n",
              "\n",
              "    [theme=dark] .colab-df-convert:hover {\n",
              "      background-color: #434B5C;\n",
              "      box-shadow: 0px 1px 3px 1px rgba(0, 0, 0, 0.15);\n",
              "      filter: drop-shadow(0px 1px 2px rgba(0, 0, 0, 0.3));\n",
              "      fill: #FFFFFF;\n",
              "    }\n",
              "  </style>\n",
              "\n",
              "    <script>\n",
              "      const buttonEl =\n",
              "        document.querySelector('#df-e097a893-4948-4693-bd05-dfa19995aeff button.colab-df-convert');\n",
              "      buttonEl.style.display =\n",
              "        google.colab.kernel.accessAllowed ? 'block' : 'none';\n",
              "\n",
              "      async function convertToInteractive(key) {\n",
              "        const element = document.querySelector('#df-e097a893-4948-4693-bd05-dfa19995aeff');\n",
              "        const dataTable =\n",
              "          await google.colab.kernel.invokeFunction('convertToInteractive',\n",
              "                                                    [key], {});\n",
              "        if (!dataTable) return;\n",
              "\n",
              "        const docLinkHtml = 'Like what you see? Visit the ' +\n",
              "          '<a target=\"_blank\" href=https://colab.research.google.com/notebooks/data_table.ipynb>data table notebook</a>'\n",
              "          + ' to learn more about interactive tables.';\n",
              "        element.innerHTML = '';\n",
              "        dataTable['output_type'] = 'display_data';\n",
              "        await google.colab.output.renderOutput(dataTable, element);\n",
              "        const docLink = document.createElement('div');\n",
              "        docLink.innerHTML = docLinkHtml;\n",
              "        element.appendChild(docLink);\n",
              "      }\n",
              "    </script>\n",
              "  </div>\n",
              "\n",
              "\n",
              "<div id=\"df-a8b92157-75e5-464c-aa20-710ad637e5e9\">\n",
              "  <button class=\"colab-df-quickchart\" onclick=\"quickchart('df-a8b92157-75e5-464c-aa20-710ad637e5e9')\"\n",
              "            title=\"Suggest charts\"\n",
              "            style=\"display:none;\">\n",
              "\n",
              "<svg xmlns=\"http://www.w3.org/2000/svg\" height=\"24px\"viewBox=\"0 0 24 24\"\n",
              "     width=\"24px\">\n",
              "    <g>\n",
              "        <path d=\"M19 3H5c-1.1 0-2 .9-2 2v14c0 1.1.9 2 2 2h14c1.1 0 2-.9 2-2V5c0-1.1-.9-2-2-2zM9 17H7v-7h2v7zm4 0h-2V7h2v10zm4 0h-2v-4h2v4z\"/>\n",
              "    </g>\n",
              "</svg>\n",
              "  </button>\n",
              "\n",
              "<style>\n",
              "  .colab-df-quickchart {\n",
              "      --bg-color: #E8F0FE;\n",
              "      --fill-color: #1967D2;\n",
              "      --hover-bg-color: #E2EBFA;\n",
              "      --hover-fill-color: #174EA6;\n",
              "      --disabled-fill-color: #AAA;\n",
              "      --disabled-bg-color: #DDD;\n",
              "  }\n",
              "\n",
              "  [theme=dark] .colab-df-quickchart {\n",
              "      --bg-color: #3B4455;\n",
              "      --fill-color: #D2E3FC;\n",
              "      --hover-bg-color: #434B5C;\n",
              "      --hover-fill-color: #FFFFFF;\n",
              "      --disabled-bg-color: #3B4455;\n",
              "      --disabled-fill-color: #666;\n",
              "  }\n",
              "\n",
              "  .colab-df-quickchart {\n",
              "    background-color: var(--bg-color);\n",
              "    border: none;\n",
              "    border-radius: 50%;\n",
              "    cursor: pointer;\n",
              "    display: none;\n",
              "    fill: var(--fill-color);\n",
              "    height: 32px;\n",
              "    padding: 0;\n",
              "    width: 32px;\n",
              "  }\n",
              "\n",
              "  .colab-df-quickchart:hover {\n",
              "    background-color: var(--hover-bg-color);\n",
              "    box-shadow: 0 1px 2px rgba(60, 64, 67, 0.3), 0 1px 3px 1px rgba(60, 64, 67, 0.15);\n",
              "    fill: var(--button-hover-fill-color);\n",
              "  }\n",
              "\n",
              "  .colab-df-quickchart-complete:disabled,\n",
              "  .colab-df-quickchart-complete:disabled:hover {\n",
              "    background-color: var(--disabled-bg-color);\n",
              "    fill: var(--disabled-fill-color);\n",
              "    box-shadow: none;\n",
              "  }\n",
              "\n",
              "  .colab-df-spinner {\n",
              "    border: 2px solid var(--fill-color);\n",
              "    border-color: transparent;\n",
              "    border-bottom-color: var(--fill-color);\n",
              "    animation:\n",
              "      spin 1s steps(1) infinite;\n",
              "  }\n",
              "\n",
              "  @keyframes spin {\n",
              "    0% {\n",
              "      border-color: transparent;\n",
              "      border-bottom-color: var(--fill-color);\n",
              "      border-left-color: var(--fill-color);\n",
              "    }\n",
              "    20% {\n",
              "      border-color: transparent;\n",
              "      border-left-color: var(--fill-color);\n",
              "      border-top-color: var(--fill-color);\n",
              "    }\n",
              "    30% {\n",
              "      border-color: transparent;\n",
              "      border-left-color: var(--fill-color);\n",
              "      border-top-color: var(--fill-color);\n",
              "      border-right-color: var(--fill-color);\n",
              "    }\n",
              "    40% {\n",
              "      border-color: transparent;\n",
              "      border-right-color: var(--fill-color);\n",
              "      border-top-color: var(--fill-color);\n",
              "    }\n",
              "    60% {\n",
              "      border-color: transparent;\n",
              "      border-right-color: var(--fill-color);\n",
              "    }\n",
              "    80% {\n",
              "      border-color: transparent;\n",
              "      border-right-color: var(--fill-color);\n",
              "      border-bottom-color: var(--fill-color);\n",
              "    }\n",
              "    90% {\n",
              "      border-color: transparent;\n",
              "      border-bottom-color: var(--fill-color);\n",
              "    }\n",
              "  }\n",
              "</style>\n",
              "\n",
              "  <script>\n",
              "    async function quickchart(key) {\n",
              "      const quickchartButtonEl =\n",
              "        document.querySelector('#' + key + ' button');\n",
              "      quickchartButtonEl.disabled = true;  // To prevent multiple clicks.\n",
              "      quickchartButtonEl.classList.add('colab-df-spinner');\n",
              "      try {\n",
              "        const charts = await google.colab.kernel.invokeFunction(\n",
              "            'suggestCharts', [key], {});\n",
              "      } catch (error) {\n",
              "        console.error('Error during call to suggestCharts:', error);\n",
              "      }\n",
              "      quickchartButtonEl.classList.remove('colab-df-spinner');\n",
              "      quickchartButtonEl.classList.add('colab-df-quickchart-complete');\n",
              "    }\n",
              "    (() => {\n",
              "      let quickchartButtonEl =\n",
              "        document.querySelector('#df-a8b92157-75e5-464c-aa20-710ad637e5e9 button');\n",
              "      quickchartButtonEl.style.display =\n",
              "        google.colab.kernel.accessAllowed ? 'block' : 'none';\n",
              "    })();\n",
              "  </script>\n",
              "</div>\n",
              "\n",
              "  <div id=\"id_2bb154b3-1428-4138-a2c2-8bb40fa01f1c\">\n",
              "    <style>\n",
              "      .colab-df-generate {\n",
              "        background-color: #E8F0FE;\n",
              "        border: none;\n",
              "        border-radius: 50%;\n",
              "        cursor: pointer;\n",
              "        display: none;\n",
              "        fill: #1967D2;\n",
              "        height: 32px;\n",
              "        padding: 0 0 0 0;\n",
              "        width: 32px;\n",
              "      }\n",
              "\n",
              "      .colab-df-generate:hover {\n",
              "        background-color: #E2EBFA;\n",
              "        box-shadow: 0px 1px 2px rgba(60, 64, 67, 0.3), 0px 1px 3px 1px rgba(60, 64, 67, 0.15);\n",
              "        fill: #174EA6;\n",
              "      }\n",
              "\n",
              "      [theme=dark] .colab-df-generate {\n",
              "        background-color: #3B4455;\n",
              "        fill: #D2E3FC;\n",
              "      }\n",
              "\n",
              "      [theme=dark] .colab-df-generate:hover {\n",
              "        background-color: #434B5C;\n",
              "        box-shadow: 0px 1px 3px 1px rgba(0, 0, 0, 0.15);\n",
              "        filter: drop-shadow(0px 1px 2px rgba(0, 0, 0, 0.3));\n",
              "        fill: #FFFFFF;\n",
              "      }\n",
              "    </style>\n",
              "    <button class=\"colab-df-generate\" onclick=\"generateWithVariable('df')\"\n",
              "            title=\"Generate code using this dataframe.\"\n",
              "            style=\"display:none;\">\n",
              "\n",
              "  <svg xmlns=\"http://www.w3.org/2000/svg\" height=\"24px\"viewBox=\"0 0 24 24\"\n",
              "       width=\"24px\">\n",
              "    <path d=\"M7,19H8.4L18.45,9,17,7.55,7,17.6ZM5,21V16.75L18.45,3.32a2,2,0,0,1,2.83,0l1.4,1.43a1.91,1.91,0,0,1,.58,1.4,1.91,1.91,0,0,1-.58,1.4L9.25,21ZM18.45,9,17,7.55Zm-12,3A5.31,5.31,0,0,0,4.9,8.1,5.31,5.31,0,0,0,1,6.5,5.31,5.31,0,0,0,4.9,4.9,5.31,5.31,0,0,0,6.5,1,5.31,5.31,0,0,0,8.1,4.9,5.31,5.31,0,0,0,12,6.5,5.46,5.46,0,0,0,6.5,12Z\"/>\n",
              "  </svg>\n",
              "    </button>\n",
              "    <script>\n",
              "      (() => {\n",
              "      const buttonEl =\n",
              "        document.querySelector('#id_2bb154b3-1428-4138-a2c2-8bb40fa01f1c button.colab-df-generate');\n",
              "      buttonEl.style.display =\n",
              "        google.colab.kernel.accessAllowed ? 'block' : 'none';\n",
              "\n",
              "      buttonEl.onclick = () => {\n",
              "        google.colab.notebook.generateWithVariable('df');\n",
              "      }\n",
              "      })();\n",
              "    </script>\n",
              "  </div>\n",
              "\n",
              "    </div>\n",
              "  </div>\n"
            ],
            "application/vnd.google.colaboratory.intrinsic+json": {
              "type": "dataframe",
              "variable_name": "df",
              "summary": "{\n  \"name\": \"df\",\n  \"rows\": 5744,\n  \"fields\": [\n    {\n      \"column\": \"id\",\n      \"properties\": {\n        \"dtype\": \"category\",\n        \"num_unique_values\": 202,\n        \"samples\": [\n          \"T1600\",\n          \"T1585\",\n          \"T1609\"\n        ],\n        \"semantic_type\": \"\",\n        \"description\": \"\"\n      }\n    },\n    {\n      \"column\": \"sentences\",\n      \"properties\": {\n        \"dtype\": \"string\",\n        \"num_unique_values\": 4125,\n        \"samples\": [\n          \"Adversaries may also opt to encrypt and/or obfuscate these alternate channels. \\n\",\n          \"These cloud shells are often a packaged unified environment to use CLI and/or scripting modules hosted as a container in the cloud environment.  \",\n          \"They extend the functionality of the kernel without the need to reboot the system.\"\n        ],\n        \"semantic_type\": \"\",\n        \"description\": \"\"\n      }\n    }\n  ]\n}"
            }
          },
          "metadata": {},
          "execution_count": 6
        }
      ]
    },
    {
      "cell_type": "code",
      "source": [
        "df.to_csv('Final.csv', index=False)"
      ],
      "metadata": {
        "id": "sb_-OwEEDuvF"
      },
      "execution_count": 45,
      "outputs": []
    },
    {
      "cell_type": "code",
      "source": [
        "def lemmatize_set(dataset):\n",
        "    lemmatizer = WordNetLemmatizer()\n",
        "    lemmatized_list = []\n",
        "    for sentence in dataset:\n",
        "        word_list = word_tokenize(sentence)\n",
        "        lemma_list = [lemmatizer.lemmatize(w) for w in word_list]\n",
        "        lemmatized_list.append(' '.join(lemma_list))\n",
        "    return lemmatized_list\n",
        "\n",
        "def stemmatize_set(dataset):\n",
        "    ps = porter.PorterStemmer()\n",
        "    stemmatize_list = []\n",
        "    for sentence in dataset:\n",
        "        word_list = word_tokenize(sentence)\n",
        "        stemma_list = [ps.stem(w) for w in word_list]\n",
        "        stemmatize_list.append(' '.join(stemma_list))\n",
        "    return stemmatize_list"
      ],
      "metadata": {
        "id": "1721uWuLgN94"
      },
      "execution_count": 7,
      "outputs": []
    },
    {
      "cell_type": "code",
      "source": [
        "import nltk\n",
        "nltk.download('wordnet')\n",
        "nltk.download('omw-1.4')\n",
        "nltk.download('punkt')\n",
        "data_df = df.copy(deep=True)\n",
        "num_classes = len(data_df['id'].value_counts())\n",
        "print(num_classes)"
      ],
      "metadata": {
        "colab": {
          "base_uri": "https://localhost:8080/"
        },
        "id": "mULKV7z_1RmB",
        "outputId": "4f070c1b-c328-488e-834d-b1f9a93fa8ad"
      },
      "execution_count": 8,
      "outputs": [
        {
          "output_type": "stream",
          "name": "stderr",
          "text": [
            "[nltk_data] Downloading package wordnet to /root/nltk_data...\n",
            "[nltk_data] Downloading package omw-1.4 to /root/nltk_data...\n",
            "[nltk_data] Downloading package punkt to /root/nltk_data...\n",
            "[nltk_data]   Unzipping tokenizers/punkt.zip.\n"
          ]
        },
        {
          "output_type": "stream",
          "name": "stdout",
          "text": [
            "202\n"
          ]
        }
      ]
    },
    {
      "cell_type": "code",
      "source": [
        "vectorizer = TfidfVectorizer(analyzer='word',stop_words= 'english', max_features=10000, ngram_range=(1,2))\n",
        "stemmatized_set = stemmatize_set(data_df.sentences)\n",
        "lemmatized_set = lemmatize_set(stemmatized_set)\n",
        "x_train_vectors = vectorizer.fit_transform(lemmatized_set)\n",
        "bow_vocab = vectorizer.get_feature_names_out()"
      ],
      "metadata": {
        "id": "RimaMRVi1cIq"
      },
      "execution_count": 9,
      "outputs": []
    },
    {
      "cell_type": "code",
      "source": [
        "encoder = LabelBinarizer()\n",
        "encoder.fit(data_df.id)\n",
        "y_enc = encoder.transform(data_df.id)\n",
        "text_label = encoder.classes_"
      ],
      "metadata": {
        "id": "5aSwgTGn1oL-"
      },
      "execution_count": 10,
      "outputs": []
    },
    {
      "cell_type": "code",
      "source": [
        "X_train, X_test, y_train, y_test = train_test_split(data_df.sentences, data_df.id, test_size=0.2,  random_state=4, stratify=data_df.id)\n",
        "\n",
        "stemmatized_set = stemmatize_set(X_train)\n",
        "lemmatized_set = lemmatize_set(stemmatized_set)\n",
        "x_train_vectors = vectorizer.fit_transform(lemmatized_set)\n",
        "\n",
        "stemmatized_set = stemmatize_set(X_test)\n",
        "lemmatized_set = lemmatize_set(stemmatized_set)\n",
        "x_test_vectors = vectorizer.transform(lemmatized_set)"
      ],
      "metadata": {
        "id": "e67Np4WT12ni"
      },
      "execution_count": 11,
      "outputs": []
    },
    {
      "cell_type": "code",
      "source": [
        "import joblib\n",
        "from sklearn.metrics import accuracy_score\n",
        "\n",
        "def fit_model(classifier, name, X_train, y_train, X_test,y_test):\n",
        "    classifier.fit(X_train, y_train)\n",
        "    print(\"Model \"+name+ \" has been trained!\")\n",
        "    print(y_train.shape)\n",
        "\n",
        "    predicted = classifier.predict(x_test_vectors)\n",
        "    print(predicted.shape)\n",
        "\n",
        "    precision, recall, fscore, support = precision_recall_fscore_support(y_test, predicted, average='weighted')\n",
        "\n",
        "    print(\"Results for: \" + name + \"\\n\")\n",
        "    accuracy = accuracy_score(y_test, predicted)\n",
        "    print(f'Accuracy: {accuracy * 100:.2f}%')\n",
        "    print(\"Precision: \" + str(precision) + \" Recall: \" + str(recall) + \" F-Score: \" + str(fscore) + \"\\n\")\n",
        "\n",
        "    path = 'ml_models'\n",
        "    try:\n",
        "        os.mkdir(path)\n",
        "    except OSError as error:\n",
        "        print(error)\n",
        "\n",
        "    filename = path + '/' + name + '.pkl'\n",
        "    joblib.dump(classifier, filename)"
      ],
      "metadata": {
        "id": "l0DMqGwO1vEc"
      },
      "execution_count": 12,
      "outputs": []
    },
    {
      "cell_type": "code",
      "source": [
        "cnb_clf = ComplementNB()\n",
        "logisticRegr = LogisticRegression(class_weight='balanced', multi_class='multinomial')\n",
        "knn_clf=KNeighborsClassifier()\n",
        "nn_clf = MLPClassifier(max_iter=1000, early_stopping=True)\n",
        "clf_svm = svm.SVC(kernel='linear', probability=True, class_weight='balanced')"
      ],
      "metadata": {
        "id": "nufOCqDjva8d"
      },
      "execution_count": 13,
      "outputs": []
    },
    {
      "cell_type": "code",
      "source": [
        "fit_model(cnb_clf, 'ComplementNB', x_train_vectors, y_train, x_test_vectors, y_test)\n",
        "fit_model(logisticRegr, 'LogisticRegression', x_train_vectors, y_train, x_test_vectors, y_test)\n",
        "fit_model(knn_clf, 'KNeighborsClassifier', x_train_vectors, y_train, x_test_vectors, y_test)\n",
        "fit_model(clf_svm, 'SVC', x_train_vectors, y_train, x_test_vectors, y_test)"
      ],
      "metadata": {
        "colab": {
          "base_uri": "https://localhost:8080/"
        },
        "id": "lSJGg1ThuHp8",
        "outputId": "729c30d1-0ef9-41f8-b9a1-9620a2b341cc"
      },
      "execution_count": 14,
      "outputs": [
        {
          "output_type": "stream",
          "name": "stdout",
          "text": [
            "Model ComplementNB has been trained!\n",
            "(4595,)\n",
            "(1149,)\n",
            "Results for: ComplementNB\n",
            "\n",
            "Accuracy: 66.84%\n",
            "Precision: 0.6190087232631735 Recall: 0.6684073107049608 F-Score: 0.6244596119827144\n",
            "\n"
          ]
        },
        {
          "output_type": "stream",
          "name": "stderr",
          "text": [
            "/usr/local/lib/python3.10/dist-packages/sklearn/metrics/_classification.py:1344: UndefinedMetricWarning: Precision and F-score are ill-defined and being set to 0.0 in labels with no predicted samples. Use `zero_division` parameter to control this behavior.\n",
            "  _warn_prf(average, modifier, msg_start, len(result))\n"
          ]
        },
        {
          "output_type": "stream",
          "name": "stdout",
          "text": [
            "Model LogisticRegression has been trained!\n",
            "(4595,)\n",
            "(1149,)\n",
            "Results for: LogisticRegression\n",
            "\n",
            "Accuracy: 57.09%\n",
            "Precision: 0.7067172658039654 Recall: 0.5709312445604874 F-Score: 0.5826329432973698\n",
            "\n",
            "[Errno 17] File exists: 'ml_models'\n",
            "Model KNeighborsClassifier has been trained!\n",
            "(4595,)\n"
          ]
        },
        {
          "output_type": "stream",
          "name": "stderr",
          "text": [
            "/usr/local/lib/python3.10/dist-packages/sklearn/metrics/_classification.py:1344: UndefinedMetricWarning: Precision and F-score are ill-defined and being set to 0.0 in labels with no predicted samples. Use `zero_division` parameter to control this behavior.\n",
            "  _warn_prf(average, modifier, msg_start, len(result))\n",
            "/usr/local/lib/python3.10/dist-packages/sklearn/metrics/_classification.py:1344: UndefinedMetricWarning: Recall and F-score are ill-defined and being set to 0.0 in labels with no true samples. Use `zero_division` parameter to control this behavior.\n",
            "  _warn_prf(average, modifier, msg_start, len(result))\n"
          ]
        },
        {
          "output_type": "stream",
          "name": "stdout",
          "text": [
            "(1149,)\n",
            "Results for: KNeighborsClassifier\n",
            "\n",
            "Accuracy: 29.16%\n",
            "Precision: 0.6254007298641932 Recall: 0.2915578764142733 F-Score: 0.3490396196719964\n",
            "\n",
            "[Errno 17] File exists: 'ml_models'\n"
          ]
        },
        {
          "output_type": "stream",
          "name": "stderr",
          "text": [
            "/usr/local/lib/python3.10/dist-packages/sklearn/metrics/_classification.py:1344: UndefinedMetricWarning: Precision and F-score are ill-defined and being set to 0.0 in labels with no predicted samples. Use `zero_division` parameter to control this behavior.\n",
            "  _warn_prf(average, modifier, msg_start, len(result))\n"
          ]
        },
        {
          "output_type": "stream",
          "name": "stdout",
          "text": [
            "Model SVC has been trained!\n",
            "(4595,)\n",
            "(1149,)\n",
            "Results for: SVC\n",
            "\n",
            "Accuracy: 69.36%\n",
            "Precision: 0.6922434398188154 Recall: 0.6936466492602262 F-Score: 0.6753632054701753\n",
            "\n",
            "[Errno 17] File exists: 'ml_models'\n"
          ]
        },
        {
          "output_type": "stream",
          "name": "stderr",
          "text": [
            "/usr/local/lib/python3.10/dist-packages/sklearn/metrics/_classification.py:1344: UndefinedMetricWarning: Precision and F-score are ill-defined and being set to 0.0 in labels with no predicted samples. Use `zero_division` parameter to control this behavior.\n",
            "  _warn_prf(average, modifier, msg_start, len(result))\n"
          ]
        }
      ]
    }
  ]
}