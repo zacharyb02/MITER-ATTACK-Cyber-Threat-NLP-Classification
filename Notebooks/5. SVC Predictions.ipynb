{
 "cells": [
  {
   "cell_type": "code",
   "execution_count": 1,
   "id": "fe1aa46b-ef4a-4beb-b377-1fca2a9071c9",
   "metadata": {},
   "outputs": [],
   "source": [
    "import pandas as pd\n",
    "import pickle\n",
    "import joblib\n",
    "\n",
    "model = joblib.load(r'G:\\NLP Projects\\MitRA aTTACK\\Notre projet\\Models\\ML Models\\SVC.pkl')\n",
    "\n",
    "vectorizer = joblib.load(r'G:\\NLP Projects\\MitRA aTTACK\\Notre projet\\Models\\ML Models\\vectorizer.joblib')"
   ]
  },
  {
   "cell_type": "code",
   "execution_count": 2,
   "id": "43308062-f7d6-4e01-9800-f6762755e05c",
   "metadata": {},
   "outputs": [],
   "source": [
    "def pred(text):\n",
    "    X = vectorizer.transform(text)\n",
    "    predictions = model.predict(X)\n",
    "    return predictions"
   ]
  },
  {
   "cell_type": "code",
   "execution_count": 6,
   "id": "34b46870-923d-4909-95be-9724956f6f86",
   "metadata": {},
   "outputs": [
    {
     "name": "stdout",
     "output_type": "stream",
     "text": [
      "['T1546']\n"
     ]
    }
   ],
   "source": [
    "Text = [\"For websites and databases, the OWASP top 10 and CWE top 25 highlight the most common web-based vulnerabilities.\"]\n",
    "\n",
    "print(pred(Text))"
   ]
  },
  {
   "cell_type": "code",
   "execution_count": 13,
   "id": "0aa195ed-7d8c-4ae8-98cf-a4db9f2be6a8",
   "metadata": {},
   "outputs": [
    {
     "name": "stdout",
     "output_type": "stream",
     "text": [
      "['T1098']\n"
     ]
    }
   ],
   "source": [
    "def pred(text):\n",
    "    X = vectorizer.transform(text)\n",
    "    predictions = model.predict(X)\n",
    "    print(predictions)\n",
    "\n",
    "Text = [\"This account modification may immediately follow Create Account or other malicious account activity. Adversaries may also modify existing Valid Accounts that they have compromised.\"]\n",
    "\n",
    "pred(Text)"
   ]
  },
  {
   "cell_type": "code",
   "execution_count": null,
   "id": "fc6901a3-1654-4614-b682-568688ec3ee5",
   "metadata": {},
   "outputs": [],
   "source": []
  },
  {
   "cell_type": "code",
   "execution_count": null,
   "id": "e99802e3-d413-4a8e-9700-b693563a57ef",
   "metadata": {},
   "outputs": [],
   "source": []
  }
 ],
 "metadata": {
  "kernelspec": {
   "display_name": "Python 3 (ipykernel)",
   "language": "python",
   "name": "python3"
  },
  "language_info": {
   "codemirror_mode": {
    "name": "ipython",
    "version": 3
   },
   "file_extension": ".py",
   "mimetype": "text/x-python",
   "name": "python",
   "nbconvert_exporter": "python",
   "pygments_lexer": "ipython3",
   "version": "3.11.3"
  }
 },
 "nbformat": 4,
 "nbformat_minor": 5
}
